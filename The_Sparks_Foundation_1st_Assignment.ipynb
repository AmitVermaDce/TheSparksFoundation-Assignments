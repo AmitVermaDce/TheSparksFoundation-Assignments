{
  "nbformat": 4,
  "nbformat_minor": 0,
  "metadata": {
    "colab": {
      "name": "The Spark Foundation - 1st Assignment.ipynb",
      "provenance": []
    },
    "kernelspec": {
      "name": "python3",
      "display_name": "Python 3"
    }
  },
  "cells": [
    {
      "cell_type": "markdown",
      "metadata": {
        "id": "2MAiu35nVOqP"
      },
      "source": [
        "**The Spark Foundation**\n",
        "\n",
        "**(Graduate Rotational Internship Program)**\n",
        "\n",
        "Task 1: Prediction using Supervised Machine Learning\n",
        "\n",
        "Aim: Predict the percentage of an student based on the number of study hours"
      ]
    },
    {
      "cell_type": "markdown",
      "metadata": {
        "id": "I7LXsglTVTGo"
      },
      "source": [
        "**Importing libraries:**\n",
        "\n",
        "NumPy: Numerical Python for computing\n",
        "\n",
        "Pandas: Panel DataData Analysis\n",
        "\n",
        "Matplotlib: for visualization"
      ]
    },
    {
      "cell_type": "code",
      "metadata": {
        "id": "YHtpcEoQVQkg"
      },
      "source": [
        "import pandas as pd\n",
        "import numpy as np\n",
        "import matplotlib.pyplot as plt\n",
        "%matplotlib inline\n"
      ],
      "execution_count": 1,
      "outputs": []
    },
    {
      "cell_type": "markdown",
      "metadata": {
        "id": "VguOHxqpVazu"
      },
      "source": [
        "Importing data from the source"
      ]
    },
    {
      "cell_type": "code",
      "metadata": {
        "id": "ONZj-6Q8VWBa",
        "outputId": "5177d647-ca59-4247-beab-f85f67803b56",
        "colab": {
          "base_uri": "https://localhost:8080/",
          "height": 195
        }
      },
      "source": [
        "data = pd.read_csv(\"https://raw.githubusercontent.com/AdiPersonalWorks/Random/master/student_scores%20-%20student_scores.csv\")\n",
        "data.head()"
      ],
      "execution_count": 2,
      "outputs": [
        {
          "output_type": "execute_result",
          "data": {
            "text/html": [
              "<div>\n",
              "<style scoped>\n",
              "    .dataframe tbody tr th:only-of-type {\n",
              "        vertical-align: middle;\n",
              "    }\n",
              "\n",
              "    .dataframe tbody tr th {\n",
              "        vertical-align: top;\n",
              "    }\n",
              "\n",
              "    .dataframe thead th {\n",
              "        text-align: right;\n",
              "    }\n",
              "</style>\n",
              "<table border=\"1\" class=\"dataframe\">\n",
              "  <thead>\n",
              "    <tr style=\"text-align: right;\">\n",
              "      <th></th>\n",
              "      <th>Hours</th>\n",
              "      <th>Scores</th>\n",
              "    </tr>\n",
              "  </thead>\n",
              "  <tbody>\n",
              "    <tr>\n",
              "      <th>0</th>\n",
              "      <td>2.5</td>\n",
              "      <td>21</td>\n",
              "    </tr>\n",
              "    <tr>\n",
              "      <th>1</th>\n",
              "      <td>5.1</td>\n",
              "      <td>47</td>\n",
              "    </tr>\n",
              "    <tr>\n",
              "      <th>2</th>\n",
              "      <td>3.2</td>\n",
              "      <td>27</td>\n",
              "    </tr>\n",
              "    <tr>\n",
              "      <th>3</th>\n",
              "      <td>8.5</td>\n",
              "      <td>75</td>\n",
              "    </tr>\n",
              "    <tr>\n",
              "      <th>4</th>\n",
              "      <td>3.5</td>\n",
              "      <td>30</td>\n",
              "    </tr>\n",
              "  </tbody>\n",
              "</table>\n",
              "</div>"
            ],
            "text/plain": [
              "   Hours  Scores\n",
              "0    2.5      21\n",
              "1    5.1      47\n",
              "2    3.2      27\n",
              "3    8.5      75\n",
              "4    3.5      30"
            ]
          },
          "metadata": {
            "tags": []
          },
          "execution_count": 2
        }
      ]
    },
    {
      "cell_type": "markdown",
      "metadata": {
        "id": "QfsKBgg8ViBG"
      },
      "source": [
        "Identifying the data shape, information, and other statistical terms"
      ]
    },
    {
      "cell_type": "code",
      "metadata": {
        "id": "y9B6xnz4Ve9W",
        "outputId": "4dbc6270-3aaf-48cd-e508-3ded90c2d714",
        "colab": {
          "base_uri": "https://localhost:8080/"
        }
      },
      "source": [
        "data.shape"
      ],
      "execution_count": 3,
      "outputs": [
        {
          "output_type": "execute_result",
          "data": {
            "text/plain": [
              "(25, 2)"
            ]
          },
          "metadata": {
            "tags": []
          },
          "execution_count": 3
        }
      ]
    },
    {
      "cell_type": "code",
      "metadata": {
        "id": "D7nltUtMVlPO",
        "outputId": "8b68a944-698b-4500-83e7-9b7c0aa4948a",
        "colab": {
          "base_uri": "https://localhost:8080/",
          "height": 284
        }
      },
      "source": [
        "data.describe()"
      ],
      "execution_count": 5,
      "outputs": [
        {
          "output_type": "execute_result",
          "data": {
            "text/html": [
              "<div>\n",
              "<style scoped>\n",
              "    .dataframe tbody tr th:only-of-type {\n",
              "        vertical-align: middle;\n",
              "    }\n",
              "\n",
              "    .dataframe tbody tr th {\n",
              "        vertical-align: top;\n",
              "    }\n",
              "\n",
              "    .dataframe thead th {\n",
              "        text-align: right;\n",
              "    }\n",
              "</style>\n",
              "<table border=\"1\" class=\"dataframe\">\n",
              "  <thead>\n",
              "    <tr style=\"text-align: right;\">\n",
              "      <th></th>\n",
              "      <th>Hours</th>\n",
              "      <th>Scores</th>\n",
              "    </tr>\n",
              "  </thead>\n",
              "  <tbody>\n",
              "    <tr>\n",
              "      <th>count</th>\n",
              "      <td>25.000000</td>\n",
              "      <td>25.000000</td>\n",
              "    </tr>\n",
              "    <tr>\n",
              "      <th>mean</th>\n",
              "      <td>5.012000</td>\n",
              "      <td>51.480000</td>\n",
              "    </tr>\n",
              "    <tr>\n",
              "      <th>std</th>\n",
              "      <td>2.525094</td>\n",
              "      <td>25.286887</td>\n",
              "    </tr>\n",
              "    <tr>\n",
              "      <th>min</th>\n",
              "      <td>1.100000</td>\n",
              "      <td>17.000000</td>\n",
              "    </tr>\n",
              "    <tr>\n",
              "      <th>25%</th>\n",
              "      <td>2.700000</td>\n",
              "      <td>30.000000</td>\n",
              "    </tr>\n",
              "    <tr>\n",
              "      <th>50%</th>\n",
              "      <td>4.800000</td>\n",
              "      <td>47.000000</td>\n",
              "    </tr>\n",
              "    <tr>\n",
              "      <th>75%</th>\n",
              "      <td>7.400000</td>\n",
              "      <td>75.000000</td>\n",
              "    </tr>\n",
              "    <tr>\n",
              "      <th>max</th>\n",
              "      <td>9.200000</td>\n",
              "      <td>95.000000</td>\n",
              "    </tr>\n",
              "  </tbody>\n",
              "</table>\n",
              "</div>"
            ],
            "text/plain": [
              "           Hours     Scores\n",
              "count  25.000000  25.000000\n",
              "mean    5.012000  51.480000\n",
              "std     2.525094  25.286887\n",
              "min     1.100000  17.000000\n",
              "25%     2.700000  30.000000\n",
              "50%     4.800000  47.000000\n",
              "75%     7.400000  75.000000\n",
              "max     9.200000  95.000000"
            ]
          },
          "metadata": {
            "tags": []
          },
          "execution_count": 5
        }
      ]
    },
    {
      "cell_type": "code",
      "metadata": {
        "id": "PM9juiSnVpg4",
        "outputId": "db50808d-25a6-42df-9cf6-db4aaef88cdd",
        "colab": {
          "base_uri": "https://localhost:8080/"
        }
      },
      "source": [
        "data.info()"
      ],
      "execution_count": 6,
      "outputs": [
        {
          "output_type": "stream",
          "text": [
            "<class 'pandas.core.frame.DataFrame'>\n",
            "RangeIndex: 25 entries, 0 to 24\n",
            "Data columns (total 2 columns):\n",
            " #   Column  Non-Null Count  Dtype  \n",
            "---  ------  --------------  -----  \n",
            " 0   Hours   25 non-null     float64\n",
            " 1   Scores  25 non-null     int64  \n",
            "dtypes: float64(1), int64(1)\n",
            "memory usage: 528.0 bytes\n"
          ],
          "name": "stdout"
        }
      ]
    },
    {
      "cell_type": "markdown",
      "metadata": {
        "id": "FuHwYf42Vx-4"
      },
      "source": [
        "**Plotting the data**"
      ]
    },
    {
      "cell_type": "code",
      "metadata": {
        "id": "mMoUUFdFVvPK",
        "outputId": "93cfca2c-3817-4c49-e0d8-a3d50600fff7",
        "colab": {
          "base_uri": "https://localhost:8080/",
          "height": 421
        }
      },
      "source": [
        "plt.figure(figsize=(10,6))\n",
        "plt.scatter(data.Hours, data.Scores, marker='x')\n",
        "plt.title(\"Hours Vs Percentage\")\n",
        "plt.xlabel(\"Hours Studied \")\n",
        "plt.ylabel(\"Percentage Scores\")\n",
        "plt.plot()"
      ],
      "execution_count": 7,
      "outputs": [
        {
          "output_type": "execute_result",
          "data": {
            "text/plain": [
              "[]"
            ]
          },
          "metadata": {
            "tags": []
          },
          "execution_count": 7
        },
        {
          "output_type": "display_data",
          "data": {
            "image/png": "[encoded data removed]",
            "text/plain": [
              "<Figure size 720x432 with 1 Axes>"
            ]
          },
          "metadata": {
            "tags": [],
            "needs_background": "light"
          }
        }
      ]
    },
    {
      "cell_type": "markdown",
      "metadata": {
        "id": "mb4e5S0yV4C4"
      },
      "source": [
        "**Feature  and target Selection**"
      ]
    },
    {
      "cell_type": "markdown",
      "metadata": {
        "id": "5Sf2tvOeV7TC"
      },
      "source": [
        "General practice is to split the data into training, validation, and testing.\n",
        "\n",
        "Training data: Training the machine for creating a hypothesis\n",
        "\n",
        "Validation data: It evaluates generalization (sample error prediction)\n",
        "\n",
        "Testing data: Final evaluation (True error estimator)\n",
        "\n",
        "Note: Here, I am using only Train and test split"
      ]
    },
    {
      "cell_type": "code",
      "metadata": {
        "id": "mhREOkPvV0TD"
      },
      "source": [
        "X = data.iloc[:, 0].values\n",
        "Y = data.iloc[:, 1].values\n",
        "\n",
        "# Splitting the data into 70(Training): 30(Testing)\n",
        "number_of_samples = len(Y)\n",
        "random_indices = np.random.permutation(number_of_samples)\n",
        "\n",
        "# Training Samples\n",
        "training_samples = int(number_of_samples * 0.8)\n",
        "X_train = X[random_indices[:training_samples]]\n",
        "Y_train = Y[random_indices[:training_samples]]\n",
        "\n",
        "# Testing Samples\n",
        "testing_samples = int(number_of_samples*0.20)\n",
        "X_test = X[random_indices[-testing_samples:]]\n",
        "Y_test = Y[random_indices[-testing_samples:]]"
      ],
      "execution_count": 8,
      "outputs": []
    },
    {
      "cell_type": "markdown",
      "metadata": {
        "id": "EdpCY1a3WDq-"
      },
      "source": [
        "Model Creation"
      ]
    },
    {
      "cell_type": "code",
      "metadata": {
        "id": "T0MDO1vkWAyB",
        "outputId": "4b53e586-3981-4d5e-c1a5-5287649f8a8a",
        "colab": {
          "base_uri": "https://localhost:8080/",
          "height": 404
        }
      },
      "source": [
        "from sklearn.linear_model import LinearRegression\n",
        "model = LinearRegression()\n",
        "\n",
        "X_train_for_line_fitting = np.matrix(X_train.reshape(len(X_train),1))\n",
        "Y_train_for_line_fitting = np.matrix(Y_train.reshape(len(X_train),1))\n",
        "model.fit(X_train_for_line_fitting, Y_train_for_line_fitting)\n",
        "\n",
        "# Plot the Regression line\n",
        "plt.figure(figsize=(10,6))\n",
        "plt.scatter(X_train,Y_train, color='black')\n",
        "plt.plot(X.reshape((len(X),1)), model.predict(X.reshape((len(X),1))),color='blue')\n",
        "plt.xlabel('x-input feature')\n",
        "plt.ylabel('y-target values')\n",
        "plt.title('Fig 2: Line fit to training data')\n",
        "plt.show()\n",
        "\n"
      ],
      "execution_count": 9,
      "outputs": [
        {
          "output_type": "display_data",
          "data": {
            "image/png": "[encoded data removed]",
            "text/plain": [
              "<Figure size 720x432 with 1 Axes>"
            ]
          },
          "metadata": {
            "tags": [],
            "needs_background": "light"
          }
        }
      ]
    },
    {
      "cell_type": "code",
      "metadata": {
        "id": "yTmhf_RyWGRk",
        "outputId": "97da353b-311c-44fe-c118-a3ae963fc03e",
        "colab": {
          "base_uri": "https://localhost:8080/",
          "height": 195
        }
      },
      "source": [
        "dict_actual_pred = {\n",
        "    'Actual': list(Y_test.reshape(len(Y_test),1)),\n",
        "    'Predicted' : list(model.predict(X_test.reshape(len(Y_test),1)))\n",
        "}\n",
        "\n",
        "\n",
        "df = pd.DataFrame(dict_actual_pred)\n",
        "df"
      ],
      "execution_count": 10,
      "outputs": [
        {
          "output_type": "execute_result",
          "data": {
            "text/html": [
              "<div>\n",
              "<style scoped>\n",
              "    .dataframe tbody tr th:only-of-type {\n",
              "        vertical-align: middle;\n",
              "    }\n",
              "\n",
              "    .dataframe tbody tr th {\n",
              "        vertical-align: top;\n",
              "    }\n",
              "\n",
              "    .dataframe thead th {\n",
              "        text-align: right;\n",
              "    }\n",
              "</style>\n",
              "<table border=\"1\" class=\"dataframe\">\n",
              "  <thead>\n",
              "    <tr style=\"text-align: right;\">\n",
              "      <th></th>\n",
              "      <th>Actual</th>\n",
              "      <th>Predicted</th>\n",
              "    </tr>\n",
              "  </thead>\n",
              "  <tbody>\n",
              "    <tr>\n",
              "      <th>0</th>\n",
              "      <td>[24]</td>\n",
              "      <td>[20.567059613877372]</td>\n",
              "    </tr>\n",
              "    <tr>\n",
              "      <th>1</th>\n",
              "      <td>[30]</td>\n",
              "      <td>[28.48996305123242]</td>\n",
              "    </tr>\n",
              "    <tr>\n",
              "      <th>2</th>\n",
              "      <td>[35]</td>\n",
              "      <td>[39.383955277595604]</td>\n",
              "    </tr>\n",
              "    <tr>\n",
              "      <th>3</th>\n",
              "      <td>[54]</td>\n",
              "      <td>[49.28758457428941]</td>\n",
              "    </tr>\n",
              "    <tr>\n",
              "      <th>4</th>\n",
              "      <td>[81]</td>\n",
              "      <td>[83.95028711271775]</td>\n",
              "    </tr>\n",
              "  </tbody>\n",
              "</table>\n",
              "</div>"
            ],
            "text/plain": [
              "  Actual             Predicted\n",
              "0   [24]  [20.567059613877372]\n",
              "1   [30]   [28.48996305123242]\n",
              "2   [35]  [39.383955277595604]\n",
              "3   [54]   [49.28758457428941]\n",
              "4   [81]   [83.95028711271775]"
            ]
          },
          "metadata": {
            "tags": []
          },
          "execution_count": 10
        }
      ]
    },
    {
      "cell_type": "markdown",
      "metadata": {
        "id": "ONpdXNQnWUwO"
      },
      "source": [
        "Evaluating the model with Mean absoluter Error "
      ]
    },
    {
      "cell_type": "code",
      "metadata": {
        "id": "UWm2RmVuWQxL",
        "outputId": "80281d9e-7ef2-45fd-da9b-530ffa4d37c5",
        "colab": {
          "base_uri": "https://localhost:8080/"
        }
      },
      "source": [
        "from sklearn import metrics\n",
        "pred = metrics.mean_absolute_error(np.matrix(Y_test.reshape(len(Y_test),1)), model.predict(np.matrix(X_test.reshape(len(X_test),1))))\n",
        "print(\"Mean_absoluter error: \", pred)"
      ],
      "execution_count": 11,
      "outputs": [
        {
          "output_type": "stream",
          "text": [
            "Mean_absoluter error:  3.3979270301828293\n"
          ],
          "name": "stdout"
        }
      ]
    },
    {
      "cell_type": "markdown",
      "metadata": {
        "id": "YDhUecuhWaGU"
      },
      "source": [
        "Problem Statement: What will be predicted score if a student studies for 9.25 hrs/ day?"
      ]
    },
    {
      "cell_type": "code",
      "metadata": {
        "id": "5uyBSlMPWW8Z",
        "outputId": "46a93cba-313d-4ec6-e348-0b3e612a1164",
        "colab": {
          "base_uri": "https://localhost:8080/"
        }
      },
      "source": [
        "Hours = np.array([[9.25]])\n",
        "pred_score = model.predict(Hours)\n",
        "print(f\"If a student studies for {Hours[0,0]} hours a day then he/she would probably score somewhere around {np.round(pred_score[0,0],2)}\")"
      ],
      "execution_count": 12,
      "outputs": [
        {
          "output_type": "stream",
          "text": [
            "If a student studies for 9.25 hours a day then he/she would probably score somewhere around 93.36\n"
          ],
          "name": "stdout"
        }
      ]
    }
  ]
}